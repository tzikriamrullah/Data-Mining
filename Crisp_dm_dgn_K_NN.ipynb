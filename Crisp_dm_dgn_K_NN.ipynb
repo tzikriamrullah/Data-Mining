{
  "nbformat": 4,
  "nbformat_minor": 0,
  "metadata": {
    "colab": {
      "name": "Crisp-dm dgn K-NN.ipynb",
      "provenance": [],
      "collapsed_sections": [],
      "authorship_tag": "ABX9TyP+0Jw4KCk9nUS13XXoHAEI",
      "include_colab_link": true
    },
    "kernelspec": {
      "display_name": "Python 3",
      "name": "python3"
    },
    "language_info": {
      "name": "python"
    }
  },
  "cells": [
    {
      "cell_type": "markdown",
      "metadata": {
        "id": "view-in-github",
        "colab_type": "text"
      },
      "source": [
        "<a href=\"https://colab.research.google.com/github/tzikriamrullah/Data-Mining/blob/main/Crisp_dm_dgn_K_NN.ipynb\" target=\"_parent\"><img src=\"https://colab.research.google.com/assets/colab-badge.svg\" alt=\"Open In Colab\"/></a>"
      ]
    },
    {
      "cell_type": "code",
      "metadata": {
        "id": "RMqFUowNhDkX"
      },
      "source": [
        "#Import package\n",
        "import numpy as np\n",
        "import matplotlib.pyplot as plt\n",
        "import pandas as pd"
      ],
      "execution_count": 127,
      "outputs": []
    },
    {
      "cell_type": "code",
      "metadata": {
        "id": "X9qdC7vKh4kC"
      },
      "source": [
        "#Membaca Data\n",
        "dataset = pd.read_csv('luaspanen2018.csv')\n",
        "x = dataset.iloc[:,[2,3]].values\n",
        "y = dataset.iloc[:, -1].values"
      ],
      "execution_count": 128,
      "outputs": []
    },
    {
      "cell_type": "code",
      "metadata": {
        "colab": {
          "base_uri": "https://localhost:8080/",
          "height": 206
        },
        "id": "H-TTeQGq8r_N",
        "outputId": "c705e06e-2b01-4060-a8ae-6865a139e059"
      },
      "source": [
        "#Membaca 5 data teratas\n",
        "dataset.head()"
      ],
      "execution_count": 129,
      "outputs": [
        {
          "output_type": "execute_result",
          "data": {
            "text/html": [
              "<div>\n",
              "<style scoped>\n",
              "    .dataframe tbody tr th:only-of-type {\n",
              "        vertical-align: middle;\n",
              "    }\n",
              "\n",
              "    .dataframe tbody tr th {\n",
              "        vertical-align: top;\n",
              "    }\n",
              "\n",
              "    .dataframe thead th {\n",
              "        text-align: right;\n",
              "    }\n",
              "</style>\n",
              "<table border=\"1\" class=\"dataframe\">\n",
              "  <thead>\n",
              "    <tr style=\"text-align: right;\">\n",
              "      <th></th>\n",
              "      <th>jenis_tanaman</th>\n",
              "      <th>luas_panen</th>\n",
              "      <th>satuan_luas</th>\n",
              "      <th>produksi</th>\n",
              "      <th>satuan_produksi</th>\n",
              "    </tr>\n",
              "  </thead>\n",
              "  <tbody>\n",
              "    <tr>\n",
              "      <th>0</th>\n",
              "      <td>Bawang Daun</td>\n",
              "      <td>0</td>\n",
              "      <td>Ha</td>\n",
              "      <td>0</td>\n",
              "      <td>kuintal</td>\n",
              "    </tr>\n",
              "    <tr>\n",
              "      <th>1</th>\n",
              "      <td>Bawang Merah</td>\n",
              "      <td>0</td>\n",
              "      <td>Ha</td>\n",
              "      <td>0</td>\n",
              "      <td>kuintal</td>\n",
              "    </tr>\n",
              "    <tr>\n",
              "      <th>2</th>\n",
              "      <td>Bawang Putih</td>\n",
              "      <td>0</td>\n",
              "      <td>Ha</td>\n",
              "      <td>0</td>\n",
              "      <td>kuintal</td>\n",
              "    </tr>\n",
              "    <tr>\n",
              "      <th>3</th>\n",
              "      <td>Bayam</td>\n",
              "      <td>556</td>\n",
              "      <td>Ha</td>\n",
              "      <td>21337</td>\n",
              "      <td>kuintal</td>\n",
              "    </tr>\n",
              "    <tr>\n",
              "      <th>4</th>\n",
              "      <td>Blewah</td>\n",
              "      <td>0</td>\n",
              "      <td>Ha</td>\n",
              "      <td>0</td>\n",
              "      <td>kuintal</td>\n",
              "    </tr>\n",
              "  </tbody>\n",
              "</table>\n",
              "</div>"
            ],
            "text/plain": [
              "  jenis_tanaman  luas_panen satuan_luas  produksi satuan_produksi\n",
              "0   Bawang Daun           0          Ha         0         kuintal\n",
              "1  Bawang Merah           0          Ha         0         kuintal\n",
              "2  Bawang Putih           0          Ha         0         kuintal\n",
              "3         Bayam         556          Ha     21337         kuintal\n",
              "4        Blewah           0          Ha         0         kuintal"
            ]
          },
          "metadata": {
            "tags": []
          },
          "execution_count": 129
        }
      ]
    },
    {
      "cell_type": "code",
      "metadata": {
        "colab": {
          "base_uri": "https://localhost:8080/"
        },
        "id": "MVfaWSBpo8BQ",
        "outputId": "5f5b5ace-9788-4e01-cece-6a60a1347872"
      },
      "source": [
        "#Melihat tipe data yang akan digunakan\n",
        "dataset.info()"
      ],
      "execution_count": 130,
      "outputs": [
        {
          "output_type": "stream",
          "text": [
            "<class 'pandas.core.frame.DataFrame'>\n",
            "RangeIndex: 26 entries, 0 to 25\n",
            "Data columns (total 5 columns):\n",
            " #   Column           Non-Null Count  Dtype \n",
            "---  ------           --------------  ----- \n",
            " 0   jenis_tanaman    26 non-null     object\n",
            " 1   luas_panen       26 non-null     int64 \n",
            " 2   satuan_luas      26 non-null     object\n",
            " 3   produksi         26 non-null     int64 \n",
            " 4   satuan_produksi  26 non-null     object\n",
            "dtypes: int64(2), object(3)\n",
            "memory usage: 1.1+ KB\n"
          ],
          "name": "stdout"
        }
      ]
    },
    {
      "cell_type": "code",
      "metadata": {
        "colab": {
          "base_uri": "https://localhost:8080/",
          "height": 206
        },
        "id": "vBTgZGsepNoY",
        "outputId": "23e2efae-e0a3-40ee-ab78-b9558d215f77"
      },
      "source": [
        "#Menentukan variabel independent\n",
        "x = dataset.drop([\"jenis_tanaman\",\"satuan_luas\",\"satuan_produksi\"], axis = 1)\n",
        "x.head()"
      ],
      "execution_count": 131,
      "outputs": [
        {
          "output_type": "execute_result",
          "data": {
            "text/html": [
              "<div>\n",
              "<style scoped>\n",
              "    .dataframe tbody tr th:only-of-type {\n",
              "        vertical-align: middle;\n",
              "    }\n",
              "\n",
              "    .dataframe tbody tr th {\n",
              "        vertical-align: top;\n",
              "    }\n",
              "\n",
              "    .dataframe thead th {\n",
              "        text-align: right;\n",
              "    }\n",
              "</style>\n",
              "<table border=\"1\" class=\"dataframe\">\n",
              "  <thead>\n",
              "    <tr style=\"text-align: right;\">\n",
              "      <th></th>\n",
              "      <th>luas_panen</th>\n",
              "      <th>produksi</th>\n",
              "    </tr>\n",
              "  </thead>\n",
              "  <tbody>\n",
              "    <tr>\n",
              "      <th>0</th>\n",
              "      <td>0</td>\n",
              "      <td>0</td>\n",
              "    </tr>\n",
              "    <tr>\n",
              "      <th>1</th>\n",
              "      <td>0</td>\n",
              "      <td>0</td>\n",
              "    </tr>\n",
              "    <tr>\n",
              "      <th>2</th>\n",
              "      <td>0</td>\n",
              "      <td>0</td>\n",
              "    </tr>\n",
              "    <tr>\n",
              "      <th>3</th>\n",
              "      <td>556</td>\n",
              "      <td>21337</td>\n",
              "    </tr>\n",
              "    <tr>\n",
              "      <th>4</th>\n",
              "      <td>0</td>\n",
              "      <td>0</td>\n",
              "    </tr>\n",
              "  </tbody>\n",
              "</table>\n",
              "</div>"
            ],
            "text/plain": [
              "   luas_panen  produksi\n",
              "0           0         0\n",
              "1           0         0\n",
              "2           0         0\n",
              "3         556     21337\n",
              "4           0         0"
            ]
          },
          "metadata": {
            "tags": []
          },
          "execution_count": 131
        }
      ]
    },
    {
      "cell_type": "code",
      "metadata": {
        "colab": {
          "base_uri": "https://localhost:8080/"
        },
        "id": "fjAGdW20qFzi",
        "outputId": "09137ff6-5f7c-4db1-8088-40c895117f44"
      },
      "source": [
        "#Menentukan variable independent\n",
        "y = dataset[\"produksi\"]\n",
        "y.head()"
      ],
      "execution_count": 132,
      "outputs": [
        {
          "output_type": "execute_result",
          "data": {
            "text/plain": [
              "0        0\n",
              "1        0\n",
              "2        0\n",
              "3    21337\n",
              "4        0\n",
              "Name: produksi, dtype: int64"
            ]
          },
          "metadata": {
            "tags": []
          },
          "execution_count": 132
        }
      ]
    },
    {
      "cell_type": "code",
      "metadata": {
        "id": "4vOX8HLp6CvA"
      },
      "source": [
        "#Import package model selection dari Sklearn\n",
        "from sklearn.model_selection import train_test_split\n",
        "#Membagi data training dan data testing\n",
        "x_train, x_test, y_train, y_test = train_test_split(x, y, test_size = 0.25, random_state = 0 )"
      ],
      "execution_count": 133,
      "outputs": []
    },
    {
      "cell_type": "code",
      "metadata": {
        "colab": {
          "base_uri": "https://localhost:8080/"
        },
        "id": "P1qyv4tp89ec",
        "outputId": "8e2e3fe5-c076-4977-9499-3e3b74d2dbd4"
      },
      "source": [
        "print(x_train)"
      ],
      "execution_count": 134,
      "outputs": [
        {
          "output_type": "stream",
          "text": [
            "    luas_panen  produksi\n",
            "13           0         0\n",
            "18           0         0\n",
            "19           0         0\n",
            "16           0         0\n",
            "1            0         0\n",
            "10           0         0\n",
            "25           0         0\n",
            "24           0         0\n",
            "8            0         0\n",
            "6            0         0\n",
            "4            0         0\n",
            "9            0         0\n",
            "7            2         4\n",
            "23           0         0\n",
            "3          556     21337\n",
            "0            0         0\n",
            "21           0         0\n",
            "15           0         0\n",
            "12           0         0\n"
          ],
          "name": "stdout"
        }
      ]
    },
    {
      "cell_type": "code",
      "metadata": {
        "colab": {
          "base_uri": "https://localhost:8080/"
        },
        "id": "jcEB5uQy9NQ8",
        "outputId": "62910934-75fe-48b6-8a2f-fe6a81b6c00e"
      },
      "source": [
        "print(x_test)"
      ],
      "execution_count": 135,
      "outputs": [
        {
          "output_type": "stream",
          "text": [
            "    luas_panen  produksi\n",
            "2            0         0\n",
            "20         435     15266\n",
            "14           1         1\n",
            "17           0         0\n",
            "5            0         0\n",
            "11         681     22961\n",
            "22           0         0\n"
          ],
          "name": "stdout"
        }
      ]
    },
    {
      "cell_type": "code",
      "metadata": {
        "colab": {
          "base_uri": "https://localhost:8080/"
        },
        "id": "3x_F2pZL9Uoq",
        "outputId": "fcd28f79-1a7f-413e-cf15-ca61ad9638ca"
      },
      "source": [
        "print(y_train)"
      ],
      "execution_count": 136,
      "outputs": [
        {
          "output_type": "stream",
          "text": [
            "13        0\n",
            "18        0\n",
            "19        0\n",
            "16        0\n",
            "1         0\n",
            "10        0\n",
            "25        0\n",
            "24        0\n",
            "8         0\n",
            "6         0\n",
            "4         0\n",
            "9         0\n",
            "7         4\n",
            "23        0\n",
            "3     21337\n",
            "0         0\n",
            "21        0\n",
            "15        0\n",
            "12        0\n",
            "Name: produksi, dtype: int64\n"
          ],
          "name": "stdout"
        }
      ]
    },
    {
      "cell_type": "code",
      "metadata": {
        "colab": {
          "base_uri": "https://localhost:8080/"
        },
        "id": "5k7V3BtR9c16",
        "outputId": "c5724e7a-9295-449a-ccd6-fdad23912cde"
      },
      "source": [
        "print(y_test)"
      ],
      "execution_count": 137,
      "outputs": [
        {
          "output_type": "stream",
          "text": [
            "2         0\n",
            "20    15266\n",
            "14        1\n",
            "17        0\n",
            "5         0\n",
            "11    22961\n",
            "22        0\n",
            "Name: produksi, dtype: int64\n"
          ],
          "name": "stdout"
        }
      ]
    },
    {
      "cell_type": "code",
      "metadata": {
        "id": "vxfq0I4z6zet"
      },
      "source": [
        "#Mengaftikan package dan syntax untuk mengubah skala data\n",
        "from sklearn.preprocessing import StandardScaler\n",
        "scaler = StandardScaler()\n",
        "scaler.fit(x_train)\n",
        "x_train = scaler.transform(x_train)\n",
        "x_test = scaler.transform(x_test)"
      ],
      "execution_count": 138,
      "outputs": []
    },
    {
      "cell_type": "code",
      "metadata": {
        "colab": {
          "base_uri": "https://localhost:8080/"
        },
        "id": "b1vEwWRE9lqH",
        "outputId": "de09b89f-0b50-4540-9d13-bbe2f22fd4de"
      },
      "source": [
        "print(x_train)"
      ],
      "execution_count": 139,
      "outputs": [
        {
          "output_type": "stream",
          "text": [
            "[[-0.23659587 -0.2357489 ]\n",
            " [-0.23659587 -0.2357489 ]\n",
            " [-0.23659587 -0.2357489 ]\n",
            " [-0.23659587 -0.2357489 ]\n",
            " [-0.23659587 -0.2357489 ]\n",
            " [-0.23659587 -0.2357489 ]\n",
            " [-0.23659587 -0.2357489 ]\n",
            " [-0.23659587 -0.2357489 ]\n",
            " [-0.23659587 -0.2357489 ]\n",
            " [-0.23659587 -0.2357489 ]\n",
            " [-0.23659587 -0.2357489 ]\n",
            " [-0.23659587 -0.2357489 ]\n",
            " [-0.2204836  -0.23490934]\n",
            " [-0.23659587 -0.2357489 ]\n",
            " [ 4.24261331  4.24264061]\n",
            " [-0.23659587 -0.2357489 ]\n",
            " [-0.23659587 -0.2357489 ]\n",
            " [-0.23659587 -0.2357489 ]\n",
            " [-0.23659587 -0.2357489 ]]\n"
          ],
          "name": "stdout"
        }
      ]
    },
    {
      "cell_type": "code",
      "metadata": {
        "colab": {
          "base_uri": "https://localhost:8080/"
        },
        "id": "eQQTXuo-9thO",
        "outputId": "1107de13-33e3-4821-e03e-4f73af4bda1e"
      },
      "source": [
        "print(x_test)"
      ],
      "execution_count": 140,
      "outputs": [
        {
          "output_type": "stream",
          "text": [
            "[[-0.23659587 -0.2357489 ]\n",
            " [ 3.26782139  2.96840793]\n",
            " [-0.22853973 -0.23553901]\n",
            " [-0.23659587 -0.2357489 ]\n",
            " [-0.23659587 -0.2357489 ]\n",
            " [ 5.24962976  4.58349943]\n",
            " [-0.23659587 -0.2357489 ]]\n"
          ],
          "name": "stdout"
        }
      ]
    },
    {
      "cell_type": "code",
      "metadata": {
        "colab": {
          "base_uri": "https://localhost:8080/"
        },
        "id": "OnyXqBJz9xcp",
        "outputId": "c017af48-950a-4fd9-ad59-8b0efa2ca8ea"
      },
      "source": [
        "#Mengaftikan package untuk klasifikasi KNN dgn imptor clssifie dari SKlearn\n",
        "from sklearn.neighbors import KNeighborsClassifier\n",
        "#Mengaftikan fungsi klasifikasi KNN \n",
        "classifier = KNeighborsClassifier(n_neighbors = 5)\n",
        "#Memasukan data training pada fungsi klasifikasi KNN\n",
        "classifier.fit(x_train, y_train)"
      ],
      "execution_count": 141,
      "outputs": [
        {
          "output_type": "execute_result",
          "data": {
            "text/plain": [
              "KNeighborsClassifier(algorithm='auto', leaf_size=30, metric='minkowski',\n",
              "                     metric_params=None, n_jobs=None, n_neighbors=5, p=2,\n",
              "                     weights='uniform')"
            ]
          },
          "metadata": {
            "tags": []
          },
          "execution_count": 141
        }
      ]
    },
    {
      "cell_type": "code",
      "metadata": {
        "id": "oDWJuoyW-0_6",
        "colab": {
          "base_uri": "https://localhost:8080/"
        },
        "outputId": "c35dc0f3-9662-45da-df15-ed4d1376d0ad"
      },
      "source": [
        "#Mentukan prediksi\n",
        "y_pred = classifier.predict(x_test)\n",
        "y_pred"
      ],
      "execution_count": 142,
      "outputs": [
        {
          "output_type": "execute_result",
          "data": {
            "text/plain": [
              "array([0, 0, 0, 0, 0, 0, 0])"
            ]
          },
          "metadata": {
            "tags": []
          },
          "execution_count": 142
        }
      ]
    },
    {
      "cell_type": "code",
      "metadata": {
        "colab": {
          "base_uri": "https://localhost:8080/"
        },
        "id": "zcwpAkT_1MGL",
        "outputId": "661cd036-4446-4795-9cc2-3aa531cf241c"
      },
      "source": [
        "#Menentukan probabilitas prediksi\n",
        "classifier.predict_proba(x_test)"
      ],
      "execution_count": 143,
      "outputs": [
        {
          "output_type": "execute_result",
          "data": {
            "text/plain": [
              "array([[1. , 0. , 0. ],\n",
              "       [0.6, 0.2, 0.2],\n",
              "       [1. , 0. , 0. ],\n",
              "       [1. , 0. , 0. ],\n",
              "       [1. , 0. , 0. ],\n",
              "       [0.6, 0.2, 0.2],\n",
              "       [1. , 0. , 0. ]])"
            ]
          },
          "metadata": {
            "tags": []
          },
          "execution_count": 143
        }
      ]
    },
    {
      "cell_type": "code",
      "metadata": {
        "colab": {
          "base_uri": "https://localhost:8080/"
        },
        "id": "HAgfcjT3_MH3",
        "outputId": "72332ba5-3afd-43d3-b3b7-82232847f78f"
      },
      "source": [
        "#Import package untuk melihat keakuratan data prediksi dengan data aktual\n",
        "from sklearn.metrics import classification_report, confusion_matrix\n",
        "print(confusion_matrix(y_test, y_pred))"
      ],
      "execution_count": 144,
      "outputs": [
        {
          "output_type": "stream",
          "text": [
            "[[4 0 0 0]\n",
            " [1 0 0 0]\n",
            " [1 0 0 0]\n",
            " [1 0 0 0]]\n"
          ],
          "name": "stdout"
        }
      ]
    },
    {
      "cell_type": "code",
      "metadata": {
        "colab": {
          "base_uri": "https://localhost:8080/"
        },
        "id": "dD4JpU5q2LVp",
        "outputId": "17a7ae43-912d-4ddb-9e90-4926bb667367"
      },
      "source": [
        "#Ketepatan hasil prediksi\n",
        "print(classification_report(y_test, y_pred))"
      ],
      "execution_count": 145,
      "outputs": [
        {
          "output_type": "stream",
          "text": [
            "              precision    recall  f1-score   support\n",
            "\n",
            "           0       0.57      1.00      0.73         4\n",
            "           1       0.00      0.00      0.00         1\n",
            "       15266       0.00      0.00      0.00         1\n",
            "       22961       0.00      0.00      0.00         1\n",
            "\n",
            "    accuracy                           0.57         7\n",
            "   macro avg       0.14      0.25      0.18         7\n",
            "weighted avg       0.33      0.57      0.42         7\n",
            "\n"
          ],
          "name": "stdout"
        },
        {
          "output_type": "stream",
          "text": [
            "/usr/local/lib/python3.7/dist-packages/sklearn/metrics/_classification.py:1272: UndefinedMetricWarning: Precision and F-score are ill-defined and being set to 0.0 in labels with no predicted samples. Use `zero_division` parameter to control this behavior.\n",
            "  _warn_prf(average, modifier, msg_start, len(result))\n"
          ],
          "name": "stderr"
        }
      ]
    }
  ]
}