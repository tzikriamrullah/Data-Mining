{
  "nbformat": 4,
  "nbformat_minor": 0,
  "metadata": {
    "colab": {
      "name": "Preprocessing Data Mining.ipynb",
      "provenance": [],
      "collapsed_sections": [],
      "toc_visible": true
    },
    "kernelspec": {
      "name": "python3",
      "display_name": "Python 3"
    },
    "language_info": {
      "name": "python"
    }
  },
  "cells": [
    {
      "cell_type": "code",
      "metadata": {
        "id": "yHC9FKo9wiPN"
      },
      "source": [
        "import numpy as np\n",
        "import matplotlib.pyplot as plt\n",
        "import pandas as pd\n"
      ],
      "execution_count": 24,
      "outputs": []
    },
    {
      "cell_type": "markdown",
      "metadata": {
        "id": "_CgW9yxOzX5R"
      },
      "source": [
        "Numpy merupakan library python digunkan untuk komputasi matrik.\n",
        "\n",
        "Matplotlib merupakan library python untukk presentaasi data berupa grafik atau plot.\n",
        "\n",
        "Pandas merupakan Library Python."
      ]
    },
    {
      "cell_type": "code",
      "metadata": {
        "id": "xlFuXVJP0Bx0"
      },
      "source": [
        "dataset = pd.read_csv('Data.csv')\n",
        "x = dataset.iloc[:, :-1].values\n",
        "y = dataset.iloc[:, -1].values"
      ],
      "execution_count": 25,
      "outputs": []
    },
    {
      "cell_type": "markdown",
      "metadata": {
        "id": "weyiA-bXiD4g"
      },
      "source": [
        "Memanggil Data.csv kemudian disimpan kedalam variabel x dan y"
      ]
    },
    {
      "cell_type": "code",
      "metadata": {
        "colab": {
          "base_uri": "https://localhost:8080/"
        },
        "id": "SMpVZc9xaxG4",
        "outputId": "96ea0920-e429-4ac4-96cd-9e87ce52f4f7"
      },
      "source": [
        "print(x)"
      ],
      "execution_count": 26,
      "outputs": [
        {
          "output_type": "stream",
          "text": [
            "[['Buku' 12.0 32000.0]\n",
            " ['pensil' 33.0 44000.0]\n",
            " ['Buku' 53.0 12000.0]\n",
            " ['pensil' 20.0 33000.0]\n",
            " ['pulpen' 34.0 nan]\n",
            " ['pensil' 61.0 76000.0]\n",
            " ['buku' nan 34000.0]\n",
            " ['pulpen' 21.0 30000.0]\n",
            " ['buku' 22.0 16000.0]\n",
            " ['pensil' 41.0 54000.0]]\n"
          ],
          "name": "stdout"
        }
      ]
    },
    {
      "cell_type": "code",
      "metadata": {
        "colab": {
          "base_uri": "https://localhost:8080/"
        },
        "id": "69N4GgHSc8-w",
        "outputId": "1876251c-dd4b-4201-c173-aa5fd7246b29"
      },
      "source": [
        "print(y)"
      ],
      "execution_count": 27,
      "outputs": [
        {
          "output_type": "stream",
          "text": [
            "['Yes' 'No' 'Yes' 'Yes' 'No' 'No' 'Yes' 'No' 'Yes' 'No']\n"
          ],
          "name": "stdout"
        }
      ]
    },
    {
      "cell_type": "code",
      "metadata": {
        "id": "8yXgEvHbdOtV"
      },
      "source": [
        "from sklearn.impute import SimpleImputer\n",
        "imputer = SimpleImputer(missing_values=np.nan, strategy='mean')\n",
        "imputer.fit(x[:, 1:3])\n",
        "x[:, 1:3] = imputer.transform(x[:, 1:3])"
      ],
      "execution_count": 28,
      "outputs": []
    },
    {
      "cell_type": "markdown",
      "metadata": {
        "id": "VccitaR6iaVo"
      },
      "source": [
        "Memberikan nilai missing value dengan nilai rata-rata"
      ]
    },
    {
      "cell_type": "code",
      "metadata": {
        "colab": {
          "base_uri": "https://localhost:8080/"
        },
        "id": "jd3yW9LHe7Mv",
        "outputId": "bd2b1f8b-1636-4e3c-f223-eaee5b05b2bb"
      },
      "source": [
        "print(x)"
      ],
      "execution_count": 29,
      "outputs": [
        {
          "output_type": "stream",
          "text": [
            "[['Buku' 12.0 32000.0]\n",
            " ['pensil' 33.0 44000.0]\n",
            " ['Buku' 53.0 12000.0]\n",
            " ['pensil' 20.0 33000.0]\n",
            " ['pulpen' 34.0 36777.77777777778]\n",
            " ['pensil' 61.0 76000.0]\n",
            " ['buku' 33.0 34000.0]\n",
            " ['pulpen' 21.0 30000.0]\n",
            " ['buku' 22.0 16000.0]\n",
            " ['pensil' 41.0 54000.0]]\n"
          ],
          "name": "stdout"
        }
      ]
    },
    {
      "cell_type": "code",
      "metadata": {
        "id": "GJUvhVdcfNEw"
      },
      "source": [
        "from sklearn.compose import ColumnTransformer\n",
        "from sklearn.preprocessing import OneHotEncoder\n",
        "ct = ColumnTransformer(transformers=[('encoder', OneHotEncoder(), [0])], remainder='passthrough')\n",
        "x = np.array(ct.fit_transform(x))"
      ],
      "execution_count": 31,
      "outputs": []
    },
    {
      "cell_type": "markdown",
      "metadata": {
        "id": "MjaLQWsZinHt"
      },
      "source": [
        "di Encode dengan OneHotEncoder untuk mendapatkan matrik"
      ]
    },
    {
      "cell_type": "code",
      "metadata": {
        "colab": {
          "base_uri": "https://localhost:8080/"
        },
        "id": "eL_6Xix1h_lC",
        "outputId": "ea97e6eb-723e-4516-f669-3b46e73a4523"
      },
      "source": [
        "print(x)"
      ],
      "execution_count": 32,
      "outputs": [
        {
          "output_type": "stream",
          "text": [
            "[[0.0 1.0 0.0 0.0 0.0 12.0 32000.0]\n",
            " [1.0 0.0 0.0 1.0 0.0 33.0 44000.0]\n",
            " [0.0 1.0 0.0 0.0 0.0 53.0 12000.0]\n",
            " [1.0 0.0 0.0 1.0 0.0 20.0 33000.0]\n",
            " [1.0 0.0 0.0 0.0 1.0 34.0 36777.77777777778]\n",
            " [1.0 0.0 0.0 1.0 0.0 61.0 76000.0]\n",
            " [1.0 0.0 1.0 0.0 0.0 33.0 34000.0]\n",
            " [1.0 0.0 0.0 0.0 1.0 21.0 30000.0]\n",
            " [1.0 0.0 1.0 0.0 0.0 22.0 16000.0]\n",
            " [1.0 0.0 0.0 1.0 0.0 41.0 54000.0]]\n"
          ],
          "name": "stdout"
        }
      ]
    },
    {
      "cell_type": "code",
      "metadata": {
        "id": "X0jTEZJriTOQ"
      },
      "source": [
        "from sklearn.preprocessing import LabelEncoder\n",
        "le = LabelEncoder()\n",
        "y = le.fit_transform(y)"
      ],
      "execution_count": 33,
      "outputs": []
    },
    {
      "cell_type": "markdown",
      "metadata": {
        "id": "jWfJCKvAi4e8"
      },
      "source": [
        "Encoder Label x dan y menggunakan LabelEncoder"
      ]
    },
    {
      "cell_type": "code",
      "metadata": {
        "colab": {
          "base_uri": "https://localhost:8080/"
        },
        "id": "DwYUxdWwizEe",
        "outputId": "ddfee49a-1481-466c-f822-c5f8c821d1ab"
      },
      "source": [
        "print(y)"
      ],
      "execution_count": 16,
      "outputs": [
        {
          "output_type": "stream",
          "text": [
            "[1 0 1 1 0 0 1 0 1 0]\n"
          ],
          "name": "stdout"
        }
      ]
    },
    {
      "cell_type": "code",
      "metadata": {
        "id": "6qhgSFfMjO5s"
      },
      "source": [
        "from sklearn.model_selection import train_test_split\n",
        "x_train, x_test, y_train, y_test = train_test_split(x, y, test_size=0.2, random_state=1)"
      ],
      "execution_count": 39,
      "outputs": []
    },
    {
      "cell_type": "markdown",
      "metadata": {
        "id": "HJPc-H0qjK4D"
      },
      "source": [
        "Membagi menggunakan train_test_split size 0.2"
      ]
    },
    {
      "cell_type": "code",
      "metadata": {
        "colab": {
          "base_uri": "https://localhost:8080/"
        },
        "id": "3gOzQ6QLkkjZ",
        "outputId": "3af71122-85a6-404b-e69a-11c0c73658e0"
      },
      "source": [
        "print(x_train)"
      ],
      "execution_count": 40,
      "outputs": [
        {
          "output_type": "stream",
          "text": [
            "[[1.0 0.0 1.0 0.0 0.0 33.0 34000.0]\n",
            " [1.0 0.0 0.0 0.0 1.0 34.0 36777.77777777778]\n",
            " [0.0 1.0 0.0 0.0 0.0 12.0 32000.0]\n",
            " [1.0 0.0 0.0 1.0 0.0 20.0 33000.0]\n",
            " [1.0 0.0 0.0 1.0 0.0 33.0 44000.0]\n",
            " [1.0 0.0 0.0 0.0 1.0 21.0 30000.0]\n",
            " [1.0 0.0 1.0 0.0 0.0 22.0 16000.0]\n",
            " [1.0 0.0 0.0 1.0 0.0 61.0 76000.0]]\n"
          ],
          "name": "stdout"
        }
      ]
    },
    {
      "cell_type": "code",
      "metadata": {
        "colab": {
          "base_uri": "https://localhost:8080/"
        },
        "id": "-wspL-TZk0Y1",
        "outputId": "80934411-56a0-42fb-fd4b-96261bbff33e"
      },
      "source": [
        "print(x_test)"
      ],
      "execution_count": 19,
      "outputs": [
        {
          "output_type": "stream",
          "text": [
            "[[1.0 0.0 0.0 0.0 53.0 12000.0]\n",
            " [0.0 0.0 1.0 0.0 41.0 54000.0]]\n"
          ],
          "name": "stdout"
        }
      ]
    },
    {
      "cell_type": "code",
      "metadata": {
        "colab": {
          "base_uri": "https://localhost:8080/"
        },
        "id": "JWw_IE7gk9W8",
        "outputId": "3df36251-6051-4375-aa07-8cc9df3e8dbc"
      },
      "source": [
        "print(y_train)"
      ],
      "execution_count": 20,
      "outputs": [
        {
          "output_type": "stream",
          "text": [
            "[1 0 1 1 0 0 1 0]\n"
          ],
          "name": "stdout"
        }
      ]
    },
    {
      "cell_type": "code",
      "metadata": {
        "colab": {
          "base_uri": "https://localhost:8080/"
        },
        "id": "XI-TcN4qlCw6",
        "outputId": "3cd5d5de-ca8a-4a45-e804-ad4a64004dde"
      },
      "source": [
        "print(y_test)"
      ],
      "execution_count": 38,
      "outputs": [
        {
          "output_type": "stream",
          "text": [
            "[1 0]\n"
          ],
          "name": "stdout"
        }
      ]
    },
    {
      "cell_type": "code",
      "metadata": {
        "id": "5E7BRusVlcX8"
      },
      "source": [
        "from sklearn.preprocessing import StandardScaler\n",
        "sc = StandardScaler()\n",
        "x_train[:, 3:] = sc.fit_transform(x_train[:, 3:])\n",
        "x_test[:, 3:] = sc.transform(x_test[:, 3:])"
      ],
      "execution_count": 35,
      "outputs": []
    },
    {
      "cell_type": "markdown",
      "metadata": {
        "id": "tlelQQ6mjjnS"
      },
      "source": [
        "Scaling mengunakan StandarrdScaler agar tidak terlalu besar angkanya"
      ]
    },
    {
      "cell_type": "code",
      "metadata": {
        "colab": {
          "base_uri": "https://localhost:8080/"
        },
        "id": "opoCCuoxmpwm",
        "outputId": "286ff2b5-ea9f-4b6b-e79a-84e40976cbf0"
      },
      "source": [
        "print(x_train)"
      ],
      "execution_count": 36,
      "outputs": [
        {
          "output_type": "stream",
          "text": [
            "[[1.0 0.0 1.0 -0.7745966692414834 -0.5773502691896258 0.2504796934375796\n",
            "  -0.22941976867703762]\n",
            " [1.0 0.0 0.0 -0.7745966692414834 1.7320508075688774 0.3220453201340309\n",
            "  -0.058210986082233074]\n",
            " [0.0 1.0 0.0 -0.7745966692414834 -0.5773502691896258 -1.252398467187898\n",
            "  -0.35269009214529673]\n",
            " [1.0 0.0 0.0 1.2909944487358056 -0.5773502691896258 -0.6798734536162875\n",
            "  -0.29105493041116715]\n",
            " [1.0 0.0 0.0 1.2909944487358056 -0.5773502691896258 0.2504796934375796\n",
            "  0.386931848664258]\n",
            " [1.0 0.0 0.0 -0.7745966692414834 1.7320508075688774 -0.6083078269198362\n",
            "  -0.47596041561355584]\n",
            " [1.0 0.0 1.0 -0.7745966692414834 -0.5773502691896258 -0.5367422002233849\n",
            "  -1.3388526798913696]\n",
            " [1.0 0.0 0.0 1.2909944487358056 -0.5773502691896258 2.2543172409382164\n",
            "  2.359257024156404]]\n"
          ],
          "name": "stdout"
        }
      ]
    },
    {
      "cell_type": "code",
      "metadata": {
        "colab": {
          "base_uri": "https://localhost:8080/"
        },
        "id": "sYrEx-n4nPrc",
        "outputId": "fe59616d-f3f5-46b1-a88e-df0ad7359150"
      },
      "source": [
        "print(x_test)"
      ],
      "execution_count": 37,
      "outputs": [
        {
          "output_type": "stream",
          "text": [
            "[[0.0 1.0 0.0 -0.7745966692414834 -0.5773502691896258 1.681792227366606\n",
            "  -1.585393326827888]\n",
            " [1.0 0.0 0.0 1.2909944487358056 -0.5773502691896258 0.8230047070091902\n",
            "  1.0032834660055536]]\n"
          ],
          "name": "stdout"
        }
      ]
    }
  ]
}