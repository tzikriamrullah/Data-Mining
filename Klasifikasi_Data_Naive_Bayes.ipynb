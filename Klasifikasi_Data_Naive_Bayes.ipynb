{
  "nbformat": 4,
  "nbformat_minor": 0,
  "metadata": {
    "colab": {
      "name": "Klasifikasi Data Naive Bayes.ipynb",
      "provenance": [],
      "collapsed_sections": []
    },
    "kernelspec": {
      "name": "python3",
      "display_name": "Python 3"
    },
    "language_info": {
      "name": "python"
    }
  },
  "cells": [
    {
      "cell_type": "code",
      "metadata": {
        "id": "SNU5GUqOSD9v"
      },
      "source": [
        "import numpy as np\n",
        "import matplotlib.pyplot as plt\n",
        "import pandas as pd"
      ],
      "execution_count": null,
      "outputs": []
    },
    {
      "cell_type": "code",
      "metadata": {
        "id": "3yp8d-F4TCNC"
      },
      "source": [
        "dataset = pd.read_csv(\"Covid19.csv\")\n",
        "x = dataset.iloc[:, [1,8]].values\n",
        "y = dataset.iloc[:, -1].values"
      ],
      "execution_count": null,
      "outputs": []
    },
    {
      "cell_type": "code",
      "metadata": {
        "colab": {
          "base_uri": "https://localhost:8080/"
        },
        "id": "Ig3zvV9QU5rY",
        "outputId": "61f212d7-bba0-436d-85fe-e0cc2460dc32"
      },
      "source": [
        "print(x)"
      ],
      "execution_count": null,
      "outputs": [
        {
          "output_type": "stream",
          "text": [
            "[[     2015 104000000]\n",
            " [     2015  96000000]\n",
            " [     2015  61000000]\n",
            " ...\n",
            " [     2021   1000000]\n",
            " [     2021   1000000]\n",
            " [     2021   1000000]]\n"
          ],
          "name": "stdout"
        }
      ]
    },
    {
      "cell_type": "code",
      "metadata": {
        "colab": {
          "base_uri": "https://localhost:8080/"
        },
        "id": "2vu7d9XuVSwB",
        "outputId": "fe71049b-eda0-47f8-cccc-0ace9e305d5a"
      },
      "source": [
        "print(y)"
      ],
      "execution_count": null,
      "outputs": [
        {
          "output_type": "stream",
          "text": [
            "[104000000 200000000 262000000 ...  45000000  46000000  47000000]\n"
          ],
          "name": "stdout"
        }
      ]
    },
    {
      "cell_type": "code",
      "metadata": {
        "id": "OIV0icE9Vd5t"
      },
      "source": [
        "from sklearn.model_selection import train_test_split\n",
        "x_train, x_test, y_train, y_test = train_test_split(x, y, test_size=0.25, random_state=0)"
      ],
      "execution_count": null,
      "outputs": []
    },
    {
      "cell_type": "code",
      "metadata": {
        "colab": {
          "base_uri": "https://localhost:8080/"
        },
        "id": "0iV302yeWzT5",
        "outputId": "b8b4dbce-b3ad-43ce-92a5-8c100c6e8760"
      },
      "source": [
        "print(x_train)"
      ],
      "execution_count": null,
      "outputs": [
        {
          "output_type": "stream",
          "text": [
            "[[    2019  1000000]\n",
            " [    2016     1000]\n",
            " [    2020 13000000]\n",
            " ...\n",
            " [    2017        0]\n",
            " [    2017 35000000]\n",
            " [    2019 24000000]]\n"
          ],
          "name": "stdout"
        }
      ]
    },
    {
      "cell_type": "code",
      "metadata": {
        "colab": {
          "base_uri": "https://localhost:8080/"
        },
        "id": "Ot9A_b98W4bx",
        "outputId": "440e9364-e45d-4ab5-facd-3ace49810520"
      },
      "source": [
        "print(x_test)"
      ],
      "execution_count": null,
      "outputs": [
        {
          "output_type": "stream",
          "text": [
            "[[     2019      1000]\n",
            " [     2015 110000000]\n",
            " [     2016         0]\n",
            " ...\n",
            " [     2019  11000000]\n",
            " [     2020   5000000]\n",
            " [     2017   1000000]]\n"
          ],
          "name": "stdout"
        }
      ]
    },
    {
      "cell_type": "code",
      "metadata": {
        "colab": {
          "base_uri": "https://localhost:8080/"
        },
        "id": "IMpngys7W9iw",
        "outputId": "7816f38b-ebe9-4aa1-d5d2-03c8cfdf5e21"
      },
      "source": [
        "print(y_train)"
      ],
      "execution_count": null,
      "outputs": [
        {
          "output_type": "stream",
          "text": [
            "[2027000000     718000 5544000000 ...      31000 9471000000 8818000000]\n"
          ],
          "name": "stdout"
        }
      ]
    },
    {
      "cell_type": "code",
      "metadata": {
        "colab": {
          "base_uri": "https://localhost:8080/"
        },
        "id": "MMOzeYyTXBjv",
        "outputId": "e65883d9-aa8b-406c-d780-45807a47758a"
      },
      "source": [
        "print(y_test)"
      ],
      "execution_count": null,
      "outputs": [
        {
          "output_type": "stream",
          "text": [
            "[     146000 32663000000    63000000 ...  1636000000  4067000000\n",
            "   116000000]\n"
          ],
          "name": "stdout"
        }
      ]
    },
    {
      "cell_type": "code",
      "metadata": {
        "id": "Nvd1aOvXXUCI"
      },
      "source": [
        "from sklearn.preprocessing import StandardScaler\n",
        "sc = StandardScaler()\n",
        "x_train = sc.fit_transform(x_train)\n",
        "x_test = sc.transform(x_test)"
      ],
      "execution_count": null,
      "outputs": []
    },
    {
      "cell_type": "code",
      "metadata": {
        "colab": {
          "base_uri": "https://localhost:8080/"
        },
        "id": "HJk_kyxeYhSK",
        "outputId": "ddb50067-e062-4d3d-e7e5-816742905903"
      },
      "source": [
        "print(x_train)"
      ],
      "execution_count": null,
      "outputs": [
        {
          "output_type": "stream",
          "text": [
            "[[ 0.7602004  -0.53377838]\n",
            " [-0.9039764  -0.55326009]\n",
            " [ 1.314926   -0.29976383]\n",
            " ...\n",
            " [-0.3492508  -0.5532796 ]\n",
            " [-0.3492508   0.12926286]\n",
            " [ 0.7602004  -0.08525048]]\n"
          ],
          "name": "stdout"
        }
      ]
    },
    {
      "cell_type": "code",
      "metadata": {
        "colab": {
          "base_uri": "https://localhost:8080/"
        },
        "id": "Kq61iOF6YsUg",
        "outputId": "cc0f9f51-2b09-488f-8dc8-ec98db649d62"
      },
      "source": [
        "print(x_test)"
      ],
      "execution_count": null,
      "outputs": [
        {
          "output_type": "stream",
          "text": [
            "[[ 0.7602004  -0.55326009]\n",
            " [-1.458702    1.59185385]\n",
            " [-0.9039764  -0.5532796 ]\n",
            " ...\n",
            " [ 0.7602004  -0.33876625]\n",
            " [ 1.314926   -0.45577353]\n",
            " [-0.3492508  -0.53377838]]\n"
          ],
          "name": "stdout"
        }
      ]
    },
    {
      "cell_type": "code",
      "metadata": {
        "colab": {
          "base_uri": "https://localhost:8080/"
        },
        "id": "hFMrh6Q6Yxcf",
        "outputId": "6334d2a2-d130-4a65-c362-c0e39d69b34a"
      },
      "source": [
        "from sklearn.naive_bayes import GaussianNB\n",
        "classifier = GaussianNB()\n",
        "classifier.fit(x_train, y_train)\n"
      ],
      "execution_count": null,
      "outputs": [
        {
          "output_type": "execute_result",
          "data": {
            "text/plain": [
              "GaussianNB(priors=None, var_smoothing=1e-09)"
            ]
          },
          "metadata": {
            "tags": []
          },
          "execution_count": 14
        }
      ]
    },
    {
      "cell_type": "code",
      "metadata": {
        "id": "_yI2ndRnZnrQ"
      },
      "source": [
        "y_pred = classifier.predict(x_test)"
      ],
      "execution_count": null,
      "outputs": []
    },
    {
      "cell_type": "code",
      "metadata": {
        "colab": {
          "base_uri": "https://localhost:8080/"
        },
        "id": "G77crKxgaEh8",
        "outputId": "cd608f24-e1b3-4a07-d171-b47b0d147db8"
      },
      "source": [
        "from sklearn.metrics import  confusion_matrix\n",
        "cm = confusion_matrix(y_test, y_pred)\n",
        "print(cm)"
      ],
      "execution_count": null,
      "outputs": [
        {
          "output_type": "stream",
          "text": [
            "[[0 0 0 ... 0 0 0]\n",
            " [0 0 0 ... 0 0 0]\n",
            " [0 0 0 ... 0 0 0]\n",
            " ...\n",
            " [0 0 0 ... 0 0 0]\n",
            " [0 0 0 ... 0 0 0]\n",
            " [0 0 0 ... 0 0 0]]\n"
          ],
          "name": "stdout"
        }
      ]
    },
    {
      "cell_type": "code",
      "metadata": {
        "id": "MtwkLynwa1nC"
      },
      "source": [
        "from matplotlib.colors import  ListedColormap\n",
        "x_set, y_set = x_train, y_train\n",
        "x1, x2 = np.meshgrid(np.arange(start = x_set[:, 0].min()-1, stop = x_set[:,0].max() + 1, step=0.01),\n",
        "                     np.arange(start = x_set[:, 0].min()-1, stop = x_set[:,0].max() + 1, step=0.01))\n",
        "plt.contourf(x1,x2, classifier.predict(np.array([x1.ravel(), x2.ravel()]).T).reshape(x1.reshape),\n",
        "            alpha = 0.75, cmap = ListedColormap(('red','green')))\n",
        "plt.xlim(x1.min(), x2.max())\n",
        "plt.ylim(x2.min(), x1.max())\n",
        "for i,j in eunumerate (np,unique(y_set)):\n",
        "  plt.scatter(x_set[y_set == j, 0], x_set[y_set==j, 1],\n",
        "              c = ListedColormap(('red','green'))(i),label = j)\n",
        "plt.title('Klasifikasi Data Naive Bayes (Data Training)')\n",
        "plt.xlabel('Tahun')\n",
        "plt.ylabel('Estimasi Value')\n",
        "plt.legend()\n",
        "plt.show()"
      ],
      "execution_count": null,
      "outputs": []
    },
    {
      "cell_type": "code",
      "metadata": {
        "id": "hjv9OkIqlwPl"
      },
      "source": [
        "from matplotlib.colors import  ListedColormap\n",
        "x_set, y_set = x_test, y_test\n",
        "x1, x2 = np.meshgrid(np.arange(start = x_set[:, 0].min()-1, stop = x_set[:,0].max() + 1, step=0.01),\n",
        "                     np.arange(start = x_set[:, 0].min()-1, stop = x_set[:,0].max() + 1, step=0.01))\n",
        "plt.contourf(x1,x2, classifier.predict(np.array([x1.ravel(), x2.ravel()]).T).reshape(x1.reshape),\n",
        "            alpha = 0.75, cmap = ListedColormap(('red','green')))\n",
        "plt.xlim(x1.min(), x2.max())\n",
        "plt.ylim(x2.min(), x1.max())\n",
        "for i,j in eunumerate (np,unique(y_set)):\n",
        "  plt.scatter(x_set[y_set == j, 0], x_set[y_set==j, 1],\n",
        "              c = ListedColormap(('red','green'))(i),label = j)\n",
        "plt.title('Klasifikasi Data Naive Bayes (Data Testing)')\n",
        "plt.xlabel('Tahun')\n",
        "plt.ylabel('Estimasi Value')\n",
        "plt.legend()\n",
        "plt.show()"
      ],
      "execution_count": null,
      "outputs": []
    }
  ]
}